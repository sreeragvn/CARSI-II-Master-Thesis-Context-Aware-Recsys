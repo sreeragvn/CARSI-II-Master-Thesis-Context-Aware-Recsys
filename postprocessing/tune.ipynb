{
 "cells": [
  {
   "cell_type": "code",
   "execution_count": 3,
   "metadata": {},
   "outputs": [],
   "source": [
    "import re\n",
    "\n",
    "def split_iterations(input_file_path):\n",
    "    with open(input_file_path, 'r') as file:\n",
    "        lines = file.readlines()\n",
    "\n",
    "    iterations = []\n",
    "    current_iteration = []\n",
    "\n",
    "    for line in lines:\n",
    "        if re.match(r'\\d{4}-\\d{2}-\\d{2} \\d{2}:\\d{2}:\\d{2},\\d{3} - hyperparameter:', line):\n",
    "            # Start of a new iteration\n",
    "            if current_iteration:\n",
    "                iterations.append(current_iteration)\n",
    "            current_iteration = [line]\n",
    "        elif re.match(r'\\d{4}-\\d{2}-\\d{2} \\d{2}:\\d{2}:\\d{2},\\d{3} - Save model parameters to', line):\n",
    "            # End of the current iteration\n",
    "            current_iteration.append(line)\n",
    "            iterations.append(current_iteration)\n",
    "            current_iteration = []\n",
    "        elif current_iteration:\n",
    "            # Collect lines within an iteration\n",
    "            current_iteration.append(line)\n",
    "\n",
    "    # Save each iteration to a separate file\n",
    "    for i, iteration in enumerate(iterations):\n",
    "        output_file_path = f'./carsii_random_delta-tune_Jan-26-2024_10-23-41/iteration_{i + 1}.log'\n",
    "        with open(output_file_path, 'w') as output_file:\n",
    "            output_file.writelines(iteration)\n",
    "\n",
    "if __name__ == \"__main__\":\n",
    "    input_file_path = '/Volumes/Workspace/In-Car CARSI/carsii/log/cl4srec/carsii_random_delta-tune_Jan-26-2024_10-23-41.log'  # Replace with your actual file path\n",
    "    split_iterations(input_file_path)\n"
   ]
  }
 ],
 "metadata": {
  "kernelspec": {
   "display_name": "carsii",
   "language": "python",
   "name": "python3"
  },
  "language_info": {
   "codemirror_mode": {
    "name": "ipython",
    "version": 3
   },
   "file_extension": ".py",
   "mimetype": "text/x-python",
   "name": "python",
   "nbconvert_exporter": "python",
   "pygments_lexer": "ipython3",
   "version": "3.8.18"
  }
 },
 "nbformat": 4,
 "nbformat_minor": 2
}
