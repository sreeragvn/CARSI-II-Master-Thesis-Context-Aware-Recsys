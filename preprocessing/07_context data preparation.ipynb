{
 "cells": [
  {
   "cell_type": "code",
   "execution_count": 1,
   "metadata": {},
   "outputs": [
    {
     "name": "stderr",
     "output_type": "stream",
     "text": [
      "<frozen importlib._bootstrap>:219: RuntimeWarning: scipy._lib.messagestream.MessageStream size changed, may indicate binary incompatibility. Expected 56 from C header, got 64 from PyObject\n"
     ]
    }
   ],
   "source": [
    "import pandas as pd\n",
    "import os\n",
    "import random\n",
    "from tqdm import tqdm\n",
    "import pickle\n",
    "from sklearn.preprocessing import MinMaxScaler"
   ]
  },
  {
   "cell_type": "code",
   "execution_count": 2,
   "metadata": {},
   "outputs": [],
   "source": [
    "regenerate_context_data = True\n",
    "sequence_augmentation = True\n",
    "whole_session_context = False\n",
    "model_test_run = False\n",
    "data_autoencoder = False\n",
    "pad_to_window_size = True\n",
    "\n",
    "PATH_TO_LOAD = '../data/04_Merged'\n",
    "combined_context_path = '../data/05_Interaction_Sequences/context.csv'\n",
    "\n",
    "window = 100 #seconds\n",
    "\n",
    "base_path = '../datasets/sequential/'\n",
    "augmentation_folder = 'aug/' if sequence_augmentation else 'non_aug/'\n",
    "if model_test_run:\n",
    "    augmentation_folder = 'test/aug/' if sequence_augmentation else 'test/non_aug/'\n",
    "\n",
    "sequence_context_path = f'{base_path}{augmentation_folder}parameters/sequence_context.csv'\n",
    "parameter_path = f'{base_path}{augmentation_folder}parameters'\n",
    "train_session_path = f'{base_path}{augmentation_folder}parameters/train_sessions.pkl'\n",
    "test_session_path = f'{base_path}{augmentation_folder}parameters/test_sessions.pkl'\n",
    "train_dynamic_context_path = f'{base_path}{augmentation_folder}dynamic_context/train.csv'\n",
    "test_dynamic_context_path = f'{base_path}{augmentation_folder}dynamic_context/test.csv'\n",
    "train_static_context_path = f'{base_path}{augmentation_folder}static_context/train.csv'\n",
    "test_static_context_path = f'{base_path}{augmentation_folder}static_context/test.csv'"
   ]
  },
  {
   "cell_type": "code",
   "execution_count": 3,
   "metadata": {},
   "outputs": [],
   "source": [
    "all_columns = ['index', 'avg_irradiation', 'steering_speed', 'temperature_out', 'hour',\n",
    "       'month', 'odometer', 'light_sensor_rear', 'light_sensor_front',\n",
    "       'temperature_in', 'KBI_speed', 'soc', 'ESP_speed', 'latitude',\n",
    "       'longitude', 'seatbelt_codriver', 'seatbelt_rear_l', 'seatbelt_rear_m',\n",
    "       'seatbelt_rear_r', 'CHA_ESP_drive_mode', 'CHA_MO_drive_mode',\n",
    "       'rain_sensor', 'street_category', 'kickdown', 'altitude',\n",
    "       'driving_program', 'datetime', 'session', 'Label', 'ID',\n",
    "       'FunctionValue', 'domain', 'BeginTime', 'time_second',\n",
    "       'distance_driven', 'ts_normalized', 'weekday']\n",
    "\n",
    "selected = [ 'avg_irradiation', 'steering_speed', 'temperature_out', 'hour',\n",
    "       'month', 'light_sensor_rear', 'light_sensor_front',\n",
    "       'temperature_in', 'KBI_speed', 'soc', 'latitude',\n",
    "       'longitude', 'seatbelt_codriver', 'seatbelt_rear_l',\n",
    "       'seatbelt_rear_r', 'street_category', 'altitude',\n",
    "       'datetime', 'session', 'time_second',\n",
    "       'distance_driven', 'weekday'\n",
    "]\n",
    "\n",
    "bad_quality = ['CHA_ESP_drive_mode', \n",
    "             'CHA_MO_drive_mode',\n",
    "             'rain_sensor',\n",
    "             'kickdown',\n",
    "             'ESP_speed',\n",
    "             'seatbelt_rear_m',\n",
    "            'driving_program',\n",
    "            'ts_normalized'\n",
    "             ]\n",
    "\n",
    "dynamic_context_var = ['avg_irradiation', 'steering_speed', 'temperature_out', \n",
    "                       'light_sensor_rear', 'light_sensor_front', \n",
    "                       'temperature_in', 'KBI_speed', 'soc', 'latitude',\n",
    "                       'longitude',  'street_category', 'altitude','time_second',\n",
    "                       'distance_driven']\n",
    "static_context_var = ['car_id', 'month', 'weekday', 'hour', 'seatbelt_codriver', 'seatbelt_rear_l',\n",
    "                       'seatbelt_rear_r',]\n",
    "#Todo take average of these value over a window\n",
    "constant_context_var = ['avg_irradiation','temperature_out'] #to be filled\n",
    "\n",
    "vehicles = ['SEB880','SEB882','SEB883','SEB885','SEB888','SEB889']"
   ]
  },
  {
   "cell_type": "code",
   "execution_count": null,
   "metadata": {},
   "outputs": [],
   "source": [
    "context_data = pd.read_csv(combined_context_path, parse_dates=['datetime'], index_col=0)\n",
    "\n",
    "with open(train_session_path, 'rb') as pickle_file:\n",
    "    train_sessions = pickle.load(pickle_file)\n",
    "with open(test_session_path, 'rb') as pickle_file:\n",
    "    test_sessions = pickle.load(pickle_file)\n",
    "context_data = context_data[context_data['session'].isin(train_sessions + test_sessions)]\n",
    "\n",
    "selected_sequence = pd.read_csv(sequence_context_path, parse_dates=['datetime'], index_col=0).reset_index()\n",
    "selected_sequence['session'] = selected_sequence['session'].astype(int)\n",
    "min_datetime_indices = selected_sequence.groupby('session')['datetime'].idxmin()\n",
    "selected_sequence = selected_sequence.drop(min_datetime_indices)\n",
    "selected_sequence.reset_index(drop=True, inplace=True)\n",
    "\n",
    "selected_dfs = []\n",
    "for session in tqdm(selected_sequence['session'].unique().tolist()):\n",
    "    selected_sequence_curr = selected_sequence[selected_sequence['session']==session]\n",
    "    context_data_curr = context_data[context_data['session']==session]\n",
    "    context_data_curr = context_data_curr[context_data_curr['datetime']<=selected_sequence_curr['datetime'].max()]\n",
    "    selected_dfs.append(context_data_curr)\n",
    "training_sequence_context = pd.concat(selected_dfs, axis=0)"
   ]
  },
  {
   "cell_type": "code",
   "execution_count": null,
   "metadata": {},
   "outputs": [],
   "source": [
    "# testing_sessions = [16, 25]\n",
    "# selected_sequence = selected_sequence[selected_sequence['session'].isin(testing_sessions)]\n",
    "# training_sequence_context = training_sequence_context[training_sequence_context['session'].isin(testing_sessions)]\n",
    "\n",
    "window_id = 0\n",
    "if sequence_augmentation == True:\n",
    "    grouped_selected_sequence = selected_sequence.groupby('session')\n",
    "    augmented_frames = []\n",
    "    for session, selected_sequence_curr in tqdm(grouped_selected_sequence):\n",
    "        for i, row in selected_sequence_curr.iloc[::-1].iterrows():\n",
    "            context_filt_curr = training_sequence_context[\n",
    "                (training_sequence_context['session'] == session) &\n",
    "                (training_sequence_context['datetime'] < row['datetime'])\n",
    "            ].copy()\n",
    "            if not whole_session_context:\n",
    "                context_filt_curr = context_filt_curr.tail(window)\n",
    "            context_filt_curr['window_id'] = window_id\n",
    "            # context_filt_curr['session'] = session\n",
    "            augmented_frames.append(context_filt_curr)\n",
    "            window_id += 1\n",
    "    training_sequence_context_augmented = pd.concat(augmented_frames, axis=0)\n",
    "    context_data = training_sequence_context_augmented.reset_index(drop=True)\n",
    "else:\n",
    "    # if sequence_augmentation is set to false\n",
    "    if not whole_session_context:\n",
    "        context_data = training_sequence_context.groupby('session').tail(window)\n",
    "    context_data = training_sequence_context.reset_index(drop=True)\n",
    "    context_data['window_id'] = context_data.groupby('session').ngroup()"
   ]
  },
  {
   "cell_type": "code",
   "execution_count": null,
   "metadata": {},
   "outputs": [],
   "source": [
    "dynamic_context = context_data[dynamic_context_var + ['window_id', 'session', 'datetime']]\n",
    "print('number of dynamic context session', len(dynamic_context.window_id.unique().tolist()))\n",
    "\n",
    "# function to pad first value to fit the window size\n",
    "if pad_to_window_size:\n",
    "    df = dynamic_context.copy()\n",
    "    session_counts = df.groupby('window_id').size()\n",
    "    less_than_100 = session_counts[session_counts < window].index.tolist()\n",
    "    print(f'Number of window with window length less than {window}: ', len(less_than_100))\n",
    "    window100_dfs = df[~df['window_id'].isin(less_than_100)]\n",
    "    empty_df = []\n",
    "    for window_id in tqdm(less_than_100):\n",
    "        sub_df = df[df['window_id'] == window_id]\n",
    "        rows_to_pad = window - len(sub_df)\n",
    "        min_datetime_row = sub_df.loc[sub_df['datetime'].idxmin()]\n",
    "        pad_df = pd.DataFrame(min_datetime_row, df.columns).transpose()\n",
    "        pad_df = pd.concat([pad_df] * int(rows_to_pad), ignore_index=True, axis=0)\n",
    "\n",
    "        padded_df = pd.concat([pad_df, sub_df], axis=0).reset_index(drop=True)\n",
    "        padded_df['window_id'] = window_id\n",
    "        empty_df.append(padded_df)\n",
    "    if empty_df:\n",
    "        df = pd.concat(empty_df, axis=0).reset_index(drop=True)\n",
    "        df = pd.concat([df, window100_dfs], axis=0).sort_values(by=['window_id']).reset_index(drop=True)\n",
    "        session_counts = df.groupby('window_id').size()\n",
    "        less_than_100 = session_counts[session_counts < window].index.tolist()\n",
    "        print(f'Number of window with window length less than {window}: ', len(less_than_100))\n",
    "        dynamic_context = df\n",
    "\n",
    "static_context = context_data[static_context_var + ['window_id', 'session', 'datetime']]\n",
    "print('number of windows', len(dynamic_context.window_id.unique().tolist()), len(static_context.window_id.unique().tolist()))\n",
    "print('number of session', len(dynamic_context.session.unique().tolist()), len(static_context.session.unique().tolist()))"
   ]
  },
  {
   "cell_type": "code",
   "execution_count": null,
   "metadata": {},
   "outputs": [],
   "source": [
    "static_context_list = []\n",
    "grouped_static_context = static_context.groupby('window_id')\n",
    "\n",
    "for window, static_context_curr in tqdm(grouped_static_context):\n",
    "    unique_curr = static_context_curr.drop_duplicates(subset=static_context_curr.columns.difference(['datetime']))\n",
    "    if len(unique_curr) > 1:\n",
    "        most_repeated_values = static_context_curr.mode().iloc[0]\n",
    "        result_df = pd.DataFrame(most_repeated_values).transpose()\n",
    "        result_df = result_df.reset_index(drop=True)\n",
    "        static_context_list.append(result_df)\n",
    "    else:\n",
    "        static_context_list.append(unique_curr)\n",
    "\n",
    "if static_context_list:\n",
    "    static_context = pd.concat(static_context_list, axis=0).reset_index(drop=True)\n",
    "\n",
    "train_dynamic_context = dynamic_context[dynamic_context['session'].isin(train_sessions)]\n",
    "test_dynamic_context = dynamic_context[dynamic_context['session'].isin(test_sessions)]\n",
    "train_static_context = static_context[static_context['session'].isin(train_sessions)]\n",
    "test_static_context = static_context[static_context['session'].isin(test_sessions)]\n",
    "\n",
    "train_dynamic_context['window_id'] = train_dynamic_context.groupby('window_id').ngroup()\n",
    "test_dynamic_context['window_id'] = test_dynamic_context.groupby('window_id').ngroup()\n",
    "train_static_context['window_id'] = train_static_context.groupby('window_id').ngroup()\n",
    "test_static_context['window_id'] = test_static_context.groupby('window_id').ngroup()\n",
    "# if data_autoencoder:\n",
    "#     train_dynamic_context.to_csv('../pretrain/time-series-autoencoder/data/dynamic_context_train.csv', index=False)\n",
    "#     test_dynamic_context.to_csv('../pretrain/time-series-autoencoder/data/dynamic_context_test.csv', index=False)\n",
    "\n",
    "print('number of session', len(train_dynamic_context.window_id.unique().tolist()), len(test_dynamic_context.window_id.unique().tolist()),\n",
    "       len(train_static_context.window_id.unique().tolist()), len(test_static_context.window_id.unique().tolist()))\n",
    "\n",
    "train_dynamic_context.to_csv(f'{base_path}{augmentation_folder}dynamic_context/unnormal/train.csv', index=False)\n",
    "test_dynamic_context.to_csv(f'{base_path}{augmentation_folder}dynamic_context/unnormal/test.csv', index=False)"
   ]
  },
  {
   "cell_type": "code",
   "execution_count": null,
   "metadata": {},
   "outputs": [],
   "source": [
    "#Normalisation\n",
    "dynamic_context_to_normalize = [col for col in train_dynamic_context.columns if col not in ['window_id', 'session_ids', 'datetime', 'session_id', 'session']]\n",
    "scaler_dynamic_context = MinMaxScaler()\n",
    "scaler_dynamic_context.fit(train_dynamic_context[dynamic_context_to_normalize])\n",
    "train_dynamic_context[dynamic_context_to_normalize] = scaler_dynamic_context.transform(train_dynamic_context[dynamic_context_to_normalize])\n",
    "test_dynamic_context[dynamic_context_to_normalize] = scaler_dynamic_context.transform(test_dynamic_context[dynamic_context_to_normalize])\n",
    "\n",
    "train_dynamic_context.to_csv(train_dynamic_context_path, index=False)\n",
    "test_dynamic_context.to_csv(test_dynamic_context_path, index=False)\n",
    "\n",
    "train_static_context.to_csv(train_static_context_path, index=False)\n",
    "test_static_context.to_csv(test_static_context_path, index=False)"
   ]
  },
  {
   "cell_type": "code",
   "execution_count": null,
   "metadata": {},
   "outputs": [],
   "source": [
    "test_static_context"
   ]
  },
  {
   "cell_type": "code",
   "execution_count": null,
   "metadata": {},
   "outputs": [],
   "source": [
    "test_dynamic_context"
   ]
  },
  {
   "cell_type": "code",
   "execution_count": null,
   "metadata": {},
   "outputs": [],
   "source": [
    "train_static_context"
   ]
  },
  {
   "cell_type": "code",
   "execution_count": null,
   "metadata": {},
   "outputs": [],
   "source": [
    "train_dynamic_context"
   ]
  },
  {
   "cell_type": "code",
   "execution_count": null,
   "metadata": {},
   "outputs": [],
   "source": [
    "def session_window_mapping(df):\n",
    "    session_window_dict = {}\n",
    "\n",
    "    for index, row in df.iterrows():\n",
    "        session = int(row['session'])\n",
    "        window_id = int(row['window_id'])\n",
    "        \n",
    "        # If the session is not already in the dictionary, initialize an empty set\n",
    "        if session not in session_window_dict:\n",
    "            session_window_dict[session] = set()\n",
    "        \n",
    "        # Add the window_id to the set corresponding to the session\n",
    "        session_window_dict[session].add(window_id)\n",
    "\n",
    "    # Convert sets to lists in the resulting dictionary\n",
    "    session_window_dict = {session: list(window_ids) for session, window_ids in session_window_dict.items()}\n",
    "    return session_window_dict\n",
    "\n",
    "\n",
    "train_session_win_id_mapping_dc = session_window_mapping(train_dynamic_context)\n",
    "test_session_win_id_mapping_dc = session_window_mapping(test_dynamic_context)\n",
    "train_session_win_id_mapping_sc = session_window_mapping(train_static_context)\n",
    "test_session_win_id_mapping_sc = session_window_mapping(test_static_context)\n",
    "\n",
    "with open(os.path.join(parameter_path, 'session_win_id_mapping.pkl'), 'rb') as pickle_file:\n",
    "    train_session_win_id_mapping = pickle.load(pickle_file)\n",
    "    test_session_win_id_mapping = pickle.load(pickle_file)"
   ]
  },
  {
   "cell_type": "code",
   "execution_count": null,
   "metadata": {},
   "outputs": [],
   "source": [
    "train_session_win_id_mapping_sc"
   ]
  },
  {
   "cell_type": "code",
   "execution_count": null,
   "metadata": {},
   "outputs": [],
   "source": [
    "train_session_win_id_mapping_dc"
   ]
  },
  {
   "cell_type": "code",
   "execution_count": null,
   "metadata": {},
   "outputs": [],
   "source": [
    "if train_session_win_id_mapping_dc == train_session_win_id_mapping_sc == train_session_win_id_mapping:\n",
    "    print(\"All training data mapping are exactly identical.\")\n",
    "if test_session_win_id_mapping_dc == test_session_win_id_mapping_sc == test_session_win_id_mapping:\n",
    "    print(\"All testing data mapping are exactly identical.\")"
   ]
  },
  {
   "cell_type": "code",
   "execution_count": null,
   "metadata": {},
   "outputs": [],
   "source": [
    "print(len(train_static_context.session.unique().tolist()), len(test_static_context.session.unique().tolist()))\n",
    "print(len(train_dynamic_context.window_id.unique().tolist()), len(test_dynamic_context.window_id.unique().tolist()))"
   ]
  }
 ],
 "metadata": {
  "kernelspec": {
   "display_name": "carsii",
   "language": "python",
   "name": "python3"
  },
  "language_info": {
   "codemirror_mode": {
    "name": "ipython",
    "version": 3
   },
   "file_extension": ".py",
   "mimetype": "text/x-python",
   "name": "python",
   "nbconvert_exporter": "python",
   "pygments_lexer": "ipython3",
   "version": "3.8.18"
  }
 },
 "nbformat": 4,
 "nbformat_minor": 2
}
