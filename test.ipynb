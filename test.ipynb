{
 "cells": [
  {
   "cell_type": "code",
   "execution_count": 1,
   "metadata": {},
   "outputs": [
    {
     "name": "stdout",
     "output_type": "stream",
     "text": [
      "Precision at k=3: 0.20000000298023224\n"
     ]
    }
   ],
   "source": [
    "import torch\n",
    "\n",
    "def precision_at_k(output, target, k=3):\n",
    "    _, indices = torch.topk(output, k, dim=1)\n",
    "    print(indices)\n",
    "    correct = torch.sum(indices == target.view(-1, 1))\n",
    "    print(correct)\n",
    "    precision = correct.float() / (k * target.size(0))\n",
    "    print(precision)\n",
    "    print(precision.item())\n",
    "    return precision.item()\n",
    "\n",
    "# Example usage\n",
    "output = torch.rand(10, 5)  # Example output from the model\n",
    "print(output)\n",
    "target = torch.randint(0, 5, (10,))  # Example target labels\n",
    "print(target)\n",
    "precision = precision_at_k(output, target, k=3)\n",
    "print(f'Precision at k=3: {precision}')\n"
   ]
  },
  {
   "cell_type": "code",
   "execution_count": 2,
   "metadata": {},
   "outputs": [
    {
     "data": {
      "text/plain": [
       "tensor([[0.0162, 0.3477, 0.9843, 0.8271, 0.7836],\n",
       "        [0.2010, 0.0768, 0.7591, 0.3569, 0.2478],\n",
       "        [0.3466, 0.9916, 0.2110, 0.5493, 0.6093],\n",
       "        [0.9014, 0.4226, 0.5764, 0.6163, 0.2777],\n",
       "        [0.3222, 0.7368, 0.9248, 0.1737, 0.5505],\n",
       "        [0.7950, 0.2749, 0.6582, 0.5130, 0.1964],\n",
       "        [0.7819, 0.4223, 0.9798, 0.2584, 0.5527],\n",
       "        [0.3570, 0.9353, 0.7590, 0.6668, 0.5213],\n",
       "        [0.8164, 0.9895, 0.7634, 0.6116, 0.3579],\n",
       "        [0.2148, 0.7633, 0.8426, 0.9016, 0.5447]])"
      ]
     },
     "execution_count": 2,
     "metadata": {},
     "output_type": "execute_result"
    }
   ],
   "source": [
    "output"
   ]
  },
  {
   "cell_type": "code",
   "execution_count": 3,
   "metadata": {},
   "outputs": [
    {
     "data": {
      "text/plain": [
       "tensor([0, 4, 4, 4, 4, 0, 0, 4, 3, 1])"
      ]
     },
     "execution_count": 3,
     "metadata": {},
     "output_type": "execute_result"
    }
   ],
   "source": [
    "target"
   ]
  }
 ],
 "metadata": {
  "kernelspec": {
   "display_name": "carsii",
   "language": "python",
   "name": "python3"
  },
  "language_info": {
   "codemirror_mode": {
    "name": "ipython",
    "version": 3
   },
   "file_extension": ".py",
   "mimetype": "text/x-python",
   "name": "python",
   "nbconvert_exporter": "python",
   "pygments_lexer": "ipython3",
   "version": "3.8.18"
  }
 },
 "nbformat": 4,
 "nbformat_minor": 2
}
