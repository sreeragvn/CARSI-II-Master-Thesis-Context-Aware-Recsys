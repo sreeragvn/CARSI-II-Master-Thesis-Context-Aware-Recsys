{
 "cells": [
  {
   "cell_type": "code",
   "execution_count": 1,
   "metadata": {},
   "outputs": [
    {
     "name": "stdout",
     "output_type": "stream",
     "text": [
      "Epoch [100/1000], Loss: 11.5962\n",
      "Epoch [200/1000], Loss: 4.8652\n",
      "Epoch [300/1000], Loss: 1.9562\n",
      "Epoch [400/1000], Loss: 1.0129\n",
      "Epoch [500/1000], Loss: 0.3090\n",
      "Epoch [600/1000], Loss: 0.0685\n",
      "Epoch [700/1000], Loss: 0.0132\n",
      "Epoch [800/1000], Loss: 0.0021\n",
      "Epoch [900/1000], Loss: 0.0003\n",
      "Epoch [1000/1000], Loss: 0.0000\n",
      "Predicted next item in the sequence: 10.03114128112793\n"
     ]
    }
   ],
   "source": [
    "import torch\n",
    "import torch.nn as nn\n",
    "import torch.optim as optim\n",
    "import pandas as pd\n",
    "\n",
    "# Sample data\n",
    "# Each sequence has three time steps, and we want to predict the next item in the sequence\n",
    "# The sequences are represented as tensors\n",
    "data = torch.tensor([[[1.0], [2.0], [3.0]],\n",
    "                     [[4.0], [5.0], [6.0]],\n",
    "                     [[7.0], [8.0], [9.0]]])\n",
    "\n",
    "data =  pd.read_csv('../datasets/sequential/carsii_timedelta_rand_seq/context/test.csv', index=False)\n",
    "\n",
    "# LSTM Model\n",
    "class SimpleLSTM(nn.Module):\n",
    "    def __init__(self, input_size, hidden_size, output_size):\n",
    "        super(SimpleLSTM, self).__init__()\n",
    "        self.lstm = nn.LSTM(input_size, hidden_size, batch_first=True)\n",
    "        self.fc = nn.Linear(hidden_size, output_size)\n",
    "\n",
    "    def forward(self, x):\n",
    "        lstm_out, _ = self.lstm(x)\n",
    "        output = self.fc(lstm_out[:, -1, :])  # Take the last time step output\n",
    "        return output\n",
    "\n",
    "# Model, Loss, and Optimizer\n",
    "input_size = 1  # The size of each element in the sequence\n",
    "hidden_size = 2  # Number of hidden units in the LSTM\n",
    "output_size = 1  # Output size, predicting one value\n",
    "model = SimpleLSTM(input_size, hidden_size, output_size)\n",
    "criterion = nn.MSELoss()\n",
    "optimizer = optim.Adam(model.parameters(), lr=0.01)\n",
    "\n",
    "# Training\n",
    "epochs = 1000\n",
    "for epoch in range(epochs):\n",
    "    # Forward pass\n",
    "    outputs = model(data)\n",
    "\n",
    "    # Ground truth labels (in this case, predicting the next item in the sequence)\n",
    "    targets = torch.tensor([[4.0], [7.0], [10.0]])\n",
    "\n",
    "    # Compute the loss\n",
    "    loss = criterion(outputs, targets)\n",
    "\n",
    "    # Backward and optimize\n",
    "    optimizer.zero_grad()\n",
    "    loss.backward()\n",
    "    optimizer.step()\n",
    "\n",
    "    # Print loss every 100 epochs\n",
    "    if (epoch + 1) % 100 == 0:\n",
    "        print(f'Epoch [{epoch+1}/{epochs}], Loss: {loss.item():.4f}')\n",
    "\n",
    "# Testing\n",
    "with torch.no_grad():\n",
    "    test_data = torch.tensor([[[10.0], [11.0], [12.0]]])\n",
    "    predicted_output = model(test_data)\n",
    "    print(f'Predicted next item in the sequence: {predicted_output.item()}')\n"
   ]
  },
  {
   "cell_type": "code",
   "execution_count": 9,
   "metadata": {},
   "outputs": [
    {
     "data": {
      "text/plain": [
       "63      0.434495\n",
       "64      1.600000\n",
       "66      0.185019\n",
       "67      5.718154\n",
       "68      7.736621\n",
       "          ...   \n",
       "2845    3.352508\n",
       "2846    1.280000\n",
       "2869    0.300077\n",
       "2870    1.920000\n",
       "2871    0.439339\n",
       "Name: KBI_speed, Length: 2469, dtype: float64"
      ]
     },
     "execution_count": 9,
     "metadata": {},
     "output_type": "execute_result"
    }
   ],
   "source": [
    "import pandas as pd\n",
    "data =  pd.read_csv('./datasets/sequential/carsii_timedelta_rand_seq/context/test.csv', parse_dates=['datetime'])\n",
    "data = data[data['session_id'] == 0]\n",
    "data = data[data['KBI_speed'] != 0]['KBI_speed']\n",
    "\n",
    "data"
   ]
  },
  {
   "cell_type": "code",
   "execution_count": 12,
   "metadata": {},
   "outputs": [
    {
     "ename": "TypeError",
     "evalue": "forward() takes 3 positional arguments but 4 were given",
     "output_type": "error",
     "traceback": [
      "\u001b[0;31m---------------------------------------------------------------------------\u001b[0m",
      "\u001b[0;31mTypeError\u001b[0m                                 Traceback (most recent call last)",
      "Cell \u001b[0;32mIn[12], line 101\u001b[0m\n\u001b[1;32m     98\u001b[0m transformer_tgt \u001b[38;5;241m=\u001b[39m transformer_input\u001b[38;5;241m.\u001b[39mclone()\n\u001b[1;32m    100\u001b[0m \u001b[38;5;66;03m# Forward pass\u001b[39;00m\n\u001b[0;32m--> 101\u001b[0m outputs \u001b[38;5;241m=\u001b[39m \u001b[43mmodel\u001b[49m\u001b[43m(\u001b[49m\u001b[43mlstm_input\u001b[49m\u001b[43m,\u001b[49m\u001b[43m \u001b[49m\u001b[43mtransformer_input\u001b[49m\u001b[43m,\u001b[49m\u001b[43m \u001b[49m\u001b[43mtransformer_tgt\u001b[49m\u001b[43m)\u001b[49m\n\u001b[1;32m    102\u001b[0m loss \u001b[38;5;241m=\u001b[39m criterion(outputs\u001b[38;5;241m.\u001b[39msqueeze(), labels\u001b[38;5;241m.\u001b[39mfloat())\n\u001b[1;32m    104\u001b[0m \u001b[38;5;66;03m# Backward pass and optimization\u001b[39;00m\n",
      "File \u001b[0;32m~/miniconda3/envs/carsii/lib/python3.8/site-packages/torch/nn/modules/module.py:1518\u001b[0m, in \u001b[0;36mModule._wrapped_call_impl\u001b[0;34m(self, *args, **kwargs)\u001b[0m\n\u001b[1;32m   1516\u001b[0m     \u001b[38;5;28;01mreturn\u001b[39;00m \u001b[38;5;28mself\u001b[39m\u001b[38;5;241m.\u001b[39m_compiled_call_impl(\u001b[38;5;241m*\u001b[39margs, \u001b[38;5;241m*\u001b[39m\u001b[38;5;241m*\u001b[39mkwargs)  \u001b[38;5;66;03m# type: ignore[misc]\u001b[39;00m\n\u001b[1;32m   1517\u001b[0m \u001b[38;5;28;01melse\u001b[39;00m:\n\u001b[0;32m-> 1518\u001b[0m     \u001b[38;5;28;01mreturn\u001b[39;00m \u001b[38;5;28;43mself\u001b[39;49m\u001b[38;5;241;43m.\u001b[39;49m\u001b[43m_call_impl\u001b[49m\u001b[43m(\u001b[49m\u001b[38;5;241;43m*\u001b[39;49m\u001b[43margs\u001b[49m\u001b[43m,\u001b[49m\u001b[43m \u001b[49m\u001b[38;5;241;43m*\u001b[39;49m\u001b[38;5;241;43m*\u001b[39;49m\u001b[43mkwargs\u001b[49m\u001b[43m)\u001b[49m\n",
      "File \u001b[0;32m~/miniconda3/envs/carsii/lib/python3.8/site-packages/torch/nn/modules/module.py:1527\u001b[0m, in \u001b[0;36mModule._call_impl\u001b[0;34m(self, *args, **kwargs)\u001b[0m\n\u001b[1;32m   1522\u001b[0m \u001b[38;5;66;03m# If we don't have any hooks, we want to skip the rest of the logic in\u001b[39;00m\n\u001b[1;32m   1523\u001b[0m \u001b[38;5;66;03m# this function, and just call forward.\u001b[39;00m\n\u001b[1;32m   1524\u001b[0m \u001b[38;5;28;01mif\u001b[39;00m \u001b[38;5;129;01mnot\u001b[39;00m (\u001b[38;5;28mself\u001b[39m\u001b[38;5;241m.\u001b[39m_backward_hooks \u001b[38;5;129;01mor\u001b[39;00m \u001b[38;5;28mself\u001b[39m\u001b[38;5;241m.\u001b[39m_backward_pre_hooks \u001b[38;5;129;01mor\u001b[39;00m \u001b[38;5;28mself\u001b[39m\u001b[38;5;241m.\u001b[39m_forward_hooks \u001b[38;5;129;01mor\u001b[39;00m \u001b[38;5;28mself\u001b[39m\u001b[38;5;241m.\u001b[39m_forward_pre_hooks\n\u001b[1;32m   1525\u001b[0m         \u001b[38;5;129;01mor\u001b[39;00m _global_backward_pre_hooks \u001b[38;5;129;01mor\u001b[39;00m _global_backward_hooks\n\u001b[1;32m   1526\u001b[0m         \u001b[38;5;129;01mor\u001b[39;00m _global_forward_hooks \u001b[38;5;129;01mor\u001b[39;00m _global_forward_pre_hooks):\n\u001b[0;32m-> 1527\u001b[0m     \u001b[38;5;28;01mreturn\u001b[39;00m \u001b[43mforward_call\u001b[49m\u001b[43m(\u001b[49m\u001b[38;5;241;43m*\u001b[39;49m\u001b[43margs\u001b[49m\u001b[43m,\u001b[49m\u001b[43m \u001b[49m\u001b[38;5;241;43m*\u001b[39;49m\u001b[38;5;241;43m*\u001b[39;49m\u001b[43mkwargs\u001b[49m\u001b[43m)\u001b[49m\n\u001b[1;32m   1529\u001b[0m \u001b[38;5;28;01mtry\u001b[39;00m:\n\u001b[1;32m   1530\u001b[0m     result \u001b[38;5;241m=\u001b[39m \u001b[38;5;28;01mNone\u001b[39;00m\n",
      "\u001b[0;31mTypeError\u001b[0m: forward() takes 3 positional arguments but 4 were given"
     ]
    }
   ],
   "source": [
    "import torch\n",
    "import torch.nn as nn\n",
    "from torch.utils.data import Dataset, DataLoader\n",
    "\n",
    "import torch\n",
    "import torch.nn as nn\n",
    "\n",
    "class EncoderLSTM(nn.Module):\n",
    "    def __init__(self, input_size, hidden_size):\n",
    "        super(EncoderLSTM, self).__init__()\n",
    "        self.lstm = nn.LSTM(input_size, hidden_size, batch_first=True)\n",
    "\n",
    "    def forward(self, x):\n",
    "        _, (h_n, _) = self.lstm(x)\n",
    "        return h_n[-1]\n",
    "\n",
    "class TransformerModel(nn.Module):\n",
    "    def __init__(self, d_model, nhead, num_layers):\n",
    "        super(TransformerModel, self).__init__()\n",
    "        self.transformer = nn.Transformer(d_model, nhead, num_layers)\n",
    "\n",
    "    def forward(self, src, tgt):\n",
    "        return self.transformer(src, tgt)\n",
    "\n",
    "\n",
    "class ConcatenatedModel(nn.Module):\n",
    "    def __init__(self, lstm_input_size, lstm_hidden_size, transformer_d_model, transformer_nhead, transformer_layers, fc_hidden_size, output_size):\n",
    "        super(ConcatenatedModel, self).__init__()\n",
    "\n",
    "        # LSTM Encoder\n",
    "        self.lstm_encoder = EncoderLSTM(lstm_input_size, lstm_hidden_size)\n",
    "\n",
    "        # Transformer Model\n",
    "        self.transformer_model = TransformerModel(transformer_d_model, transformer_nhead, transformer_layers)\n",
    "\n",
    "        # Fully Connected Layers\n",
    "        self.fc_layers = nn.Sequential(\n",
    "            nn.Linear(lstm_hidden_size + transformer_d_model, fc_hidden_size),\n",
    "            nn.ReLU(),\n",
    "            nn.Linear(fc_hidden_size, fc_hidden_size),\n",
    "            nn.ReLU(),\n",
    "            nn.Linear(fc_hidden_size, output_size)\n",
    "        )\n",
    "\n",
    "    def forward(self, lstm_input, transformer_input):\n",
    "        # LSTM Encoding\n",
    "        lstm_encoded = self.lstm_encoder(lstm_input)\n",
    "\n",
    "        # Transformer Encoding\n",
    "        transformer_encoded = self.transformer_model(transformer_input)\n",
    "\n",
    "        # Concatenate the representations\n",
    "        concatenated_rep = torch.cat((lstm_encoded, transformer_encoded), dim=1)\n",
    "\n",
    "        # Fully Connected Layers\n",
    "        output = self.fc_layers(concatenated_rep)\n",
    "        return output\n",
    "\n",
    "\n",
    "# Generate synthetic data\n",
    "def generate_data(num_samples, sequence_length, feature_dim):\n",
    "    lstm_input = torch.rand((num_samples, sequence_length, feature_dim))\n",
    "    transformer_input = torch.randint(0, 2, (num_samples, sequence_length))  # Binary movie clicks\n",
    "    labels = torch.randint(0, 2, (num_samples,))  # Binary labels (for example)\n",
    "\n",
    "    return lstm_input, transformer_input, labels\n",
    "\n",
    "# Custom dataset\n",
    "class CustomDataset(Dataset):\n",
    "    def __init__(self, num_samples, sequence_length, feature_dim):\n",
    "        self.lstm_input, self.transformer_input, self.labels = generate_data(num_samples, sequence_length, feature_dim)\n",
    "\n",
    "    def __len__(self):\n",
    "        return len(self.labels)\n",
    "\n",
    "    def __getitem__(self, idx):\n",
    "        return {'lstm_input': self.lstm_input[idx], 'transformer_input': self.transformer_input[idx], 'labels': self.labels[idx]}\n",
    "\n",
    "# Instantiate the dataset and dataloader\n",
    "num_samples = 1000\n",
    "sequence_length = 10\n",
    "feature_dim = 5\n",
    "batch_size = 32\n",
    "\n",
    "dataset = CustomDataset(num_samples, sequence_length, feature_dim)\n",
    "dataloader = DataLoader(dataset, batch_size=batch_size, shuffle=True)\n",
    "\n",
    "# Example usage in a training loop\n",
    "model = ConcatenatedModel(lstm_input_size=feature_dim, lstm_hidden_size=16, transformer_d_model=16, transformer_nhead=2, transformer_layers=2, fc_hidden_size=32, output_size=1)\n",
    "criterion = nn.BCEWithLogitsLoss()\n",
    "optimizer = torch.optim.Adam(model.parameters(), lr=0.001)\n",
    "\n",
    "num_epochs = 10\n",
    "for batch in dataloader:\n",
    "    lstm_input, transformer_input, labels = batch['lstm_input'], batch['transformer_input'], batch['labels']\n",
    "\n",
    "    # Assuming the target sequence for the transformer is the same as the input sequence\n",
    "    transformer_tgt = transformer_input.clone()\n",
    "\n",
    "    # Forward pass\n",
    "    outputs = model(lstm_input, transformer_input, transformer_tgt)\n",
    "    loss = criterion(outputs.squeeze(), labels.float())\n",
    "\n",
    "    # Backward pass and optimization\n",
    "    optimizer.zero_grad()\n",
    "    loss.backward()\n",
    "    optimizer.step()\n",
    "\n",
    "\n",
    "    print(f'Epoch [{epoch+1}/{num_epochs}], Loss: {loss.item():.4f}')\n"
   ]
  },
  {
   "cell_type": "code",
   "execution_count": 51,
   "metadata": {},
   "outputs": [],
   "source": [
    "rnn = nn.LSTM(1, 4, 2)\n",
    "input = torch.randn(5, 3, 1)\n",
    "h0 = torch.zeros(2, 3, 4)\n",
    "c0 = torch.zeros(2, 3, 4)\n",
    "output, (hn, cn) = rnn(input)"
   ]
  },
  {
   "cell_type": "code",
   "execution_count": 52,
   "metadata": {},
   "outputs": [
    {
     "data": {
      "text/plain": [
       "torch.Size([2, 3, 4])"
      ]
     },
     "execution_count": 52,
     "metadata": {},
     "output_type": "execute_result"
    }
   ],
   "source": [
    "hn.size()"
   ]
  },
  {
   "cell_type": "code",
   "execution_count": 6,
   "metadata": {},
   "outputs": [
    {
     "name": "stdout",
     "output_type": "stream",
     "text": [
      "Output Shape: torch.Size([1, 212, 128])\n"
     ]
    }
   ],
   "source": [
    "import torch\n",
    "import torch.nn as nn\n",
    "\n",
    "# Define input dimensions\n",
    "batch_size = 212\n",
    "sequence_length = 100\n",
    "input_size = 2  # Assuming 2 features in each time step\n",
    "hidden_size = 128  # Desired hidden state size\n",
    "num_layers = 1  # Number of LSTM layers\n",
    "\n",
    "# Create an LSTM layer\n",
    "lstm = nn.LSTM(input_size=input_size, hidden_size=hidden_size, num_layers=num_layers, batch_first=True)\n",
    "\n",
    "# Create a random input tensor with the specified dimensions\n",
    "batch_context = torch.randn(batch_size, sequence_length, input_size)\n",
    "\n",
    "# Pass the input through the LSTM\n",
    "output, (hn, cn) = lstm(batch_context)\n",
    "\n",
    "# Print the output shape\n",
    "print(\"Output Shape:\", hn.shape)\n"
   ]
  },
  {
   "cell_type": "code",
   "execution_count": null,
   "metadata": {},
   "outputs": [],
   "source": [
    "Output Shape: torch.Size([212, 100, 128])"
   ]
  }
 ],
 "metadata": {
  "kernelspec": {
   "display_name": "carsii",
   "language": "python",
   "name": "python3"
  },
  "language_info": {
   "codemirror_mode": {
    "name": "ipython",
    "version": 3
   },
   "file_extension": ".py",
   "mimetype": "text/x-python",
   "name": "python",
   "nbconvert_exporter": "python",
   "pygments_lexer": "ipython3",
   "version": "3.8.18"
  }
 },
 "nbformat": 4,
 "nbformat_minor": 2
}
