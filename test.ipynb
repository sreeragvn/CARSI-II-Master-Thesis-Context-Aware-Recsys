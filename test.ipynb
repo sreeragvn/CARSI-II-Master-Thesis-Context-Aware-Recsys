{
 "cells": [
  {
   "cell_type": "code",
   "execution_count": 2,
   "metadata": {},
   "outputs": [
    {
     "name": "stdout",
     "output_type": "stream",
     "text": [
      "torch.Size([4]) torch.Size([4, 3])\n"
     ]
    }
   ],
   "source": [
    "from torch import tensor\n",
    "\n",
    "target = tensor([2, 1, 0, 0])\n",
    "preds = tensor([[0.16, 0.26, 0.58],\n",
    "                [0.22, 0.61, 0.17],\n",
    "                [0.71, 0.09, 0.20],\n",
    "                [0.05, 0.82, 0.13]])\n",
    "\n",
    "print(target.size(), preds.size())"
   ]
  }
 ],
 "metadata": {
  "kernelspec": {
   "display_name": "carsii",
   "language": "python",
   "name": "python3"
  },
  "language_info": {
   "codemirror_mode": {
    "name": "ipython",
    "version": 3
   },
   "file_extension": ".py",
   "mimetype": "text/x-python",
   "name": "python",
   "nbconvert_exporter": "python",
   "pygments_lexer": "ipython3",
   "version": "3.8.18"
  }
 },
 "nbformat": 4,
 "nbformat_minor": 2
}
