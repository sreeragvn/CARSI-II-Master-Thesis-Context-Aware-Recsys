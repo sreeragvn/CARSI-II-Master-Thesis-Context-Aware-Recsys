{
 "cells": [
  {
   "cell_type": "code",
   "execution_count": 3,
   "metadata": {},
   "outputs": [
    {
     "name": "stdout",
     "output_type": "stream",
     "text": [
      "Linear(in_features=100, out_features=64, bias=False)\n",
      "Output Dimension of Linear Layer: 64\n"
     ]
    }
   ],
   "source": [
    "import torch.nn as nn\n",
    "import torch\n",
    "\n",
    "def calculate_linear_output_dim(input_dim, out_features):\n",
    "    # Assuming the linear layer does not use bias (bias=False)\n",
    "    linear_layer = nn.Linear(input_dim, out_features, bias=False)\n",
    "    print(linear_layer)\n",
    "    return linear_layer(torch.zeros(1, input_dim)).shape[1]\n",
    "\n",
    "# Example usage\n",
    "input_dim = 100\n",
    "out_features = 64\n",
    "\n",
    "output_dim = calculate_linear_output_dim(input_dim, out_features)\n",
    "print(\"Output Dimension of Linear Layer:\", output_dim)\n"
   ]
  }
 ],
 "metadata": {
  "kernelspec": {
   "display_name": "carsii",
   "language": "python",
   "name": "python3"
  },
  "language_info": {
   "codemirror_mode": {
    "name": "ipython",
    "version": 3
   },
   "file_extension": ".py",
   "mimetype": "text/x-python",
   "name": "python",
   "nbconvert_exporter": "python",
   "pygments_lexer": "ipython3",
   "version": "3.8.18"
  }
 },
 "nbformat": 4,
 "nbformat_minor": 2
}
